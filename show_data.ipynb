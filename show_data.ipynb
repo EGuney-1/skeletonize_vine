{
 "cells": [
  {
   "cell_type": "code",
   "execution_count": 1,
   "metadata": {},
   "outputs": [
    {
     "name": "stdout",
     "output_type": "stream",
     "text": [
      "tree_id: ()\n",
      "xyz: (117996, 3)\n",
      "rgb: (117996, 3)\n",
      "vector: (117996, 3)\n",
      "class_l: (117996,)\n",
      "skeleton_xyz: (41311, 3)\n",
      "skeleton_radii: (41311, 1)\n",
      "branch_id: (10742,)\n",
      "branch_parent_id: (10742,)\n",
      "branch_num_elements: (10742,)\n"
     ]
    }
   ],
   "source": [
    "import numpy as np\n",
    "from pathlib import Path\n",
    "from plyfile import *\n",
    "\n",
    "\n",
    "def load_npz(filepath: Path):\n",
    "    data = np.load(filepath)\n",
    "    res = {}\n",
    "    for f in data.files:\n",
    "        res[f] = data[f]\n",
    "    return res\n",
    "\n",
    "\n",
    "p = Path() / 'data' / 'branch_only' / 'apple_1.npz'\n",
    "ptcloud = load_npz(p)\n",
    "for k, v in ptcloud.items():\n",
    "    print(f'{k}: {v.shape}')"
   ]
  },
  {
   "cell_type": "code",
   "execution_count": 2,
   "metadata": {},
   "outputs": [
    {
     "name": "stdout",
     "output_type": "stream",
     "text": [
      "Jupyter environment detected. Enabling Open3D WebVisualizer.\n",
      "[Open3D INFO] WebRTC GUI backend enabled.\n",
      "[Open3D INFO] WebRTCWindowSystem: HTTP handshake server disabled.\n",
      "PointCloud with 117996 points.\n"
     ]
    }
   ],
   "source": [
    "import open3d as o3d\n",
    "import open3d.visualization as vis\n",
    "\n",
    "v3v = o3d.utility.Vector3dVector(ptcloud['xyz'])\n",
    "pcd = o3d.geometry.PointCloud(v3v)\n",
    "\n",
    "print(pcd)\n",
    "\n",
    "pcd_center = ptcloud['xyz'].mean(axis=0)\n",
    "\n",
    "vis.draw_geometries([pcd],\n",
    "                    zoom=.75,\n",
    "                    front=[0, 0, -1],\n",
    "                    lookat=pcd_center,\n",
    "                    up=[0, 1, 0])"
   ]
  }
 ],
 "metadata": {
  "kernelspec": {
   "display_name": "venv",
   "language": "python",
   "name": "python3"
  },
  "language_info": {
   "codemirror_mode": {
    "name": "ipython",
    "version": 3
   },
   "file_extension": ".py",
   "mimetype": "text/x-python",
   "name": "python",
   "nbconvert_exporter": "python",
   "pygments_lexer": "ipython3",
   "version": "3.11.6"
  }
 },
 "nbformat": 4,
 "nbformat_minor": 2
}
