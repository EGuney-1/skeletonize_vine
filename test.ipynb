{
 "cells": [
  {
   "cell_type": "code",
   "execution_count": 28,
   "metadata": {},
   "outputs": [],
   "source": [
    "import numpy as np\n",
    "from pathlib import Path\n",
    "from plyfile import *\n",
    "\n",
    "p = Path() / 'data' / 'branch_only' / 'apple_1.npz'\n",
    "arr = np.load(p)\n",
    "\n",
    "def load_ptcloud(filepath: Path):\n",
    "    data = np.load(filepath)\n",
    "    res = {}\n",
    "    for f in data.files:\n",
    "        res[f] = data[f]\n",
    "    return res"
   ]
  },
  {
   "cell_type": "code",
   "execution_count": 3,
   "metadata": {},
   "outputs": [
    {
     "data": {
      "text/plain": [
       "['tree_id',\n",
       " 'xyz',\n",
       " 'rgb',\n",
       " 'vector',\n",
       " 'class_l',\n",
       " 'skeleton_xyz',\n",
       " 'skeleton_radii',\n",
       " 'branch_id',\n",
       " 'branch_parent_id',\n",
       " 'branch_num_elements']"
      ]
     },
     "execution_count": 3,
     "metadata": {},
     "output_type": "execute_result"
    }
   ],
   "source": [
    "arr.files"
   ]
  },
  {
   "cell_type": "code",
   "execution_count": 16,
   "metadata": {},
   "outputs": [
    {
     "data": {
      "text/plain": [
       "{'tree_id': array(1, dtype=int64),\n",
       " 'xyz': array([[-0.72603982,  2.38983823, -2.05716025],\n",
       "        [-0.73567971,  2.38677101, -2.05120432],\n",
       "        [-0.83291875,  2.34286693, -1.82518052],\n",
       "        ...,\n",
       "        [ 0.41545837,  3.04860716,  2.05080537],\n",
       "        [ 0.51956767,  3.18069251,  0.4061205 ],\n",
       "        [ 0.52532258,  3.17778453,  0.44655121]]),\n",
       " 'rgb': array([[0.07843137, 0.0745098 , 0.05098039],\n",
       "        [0.07843137, 0.0745098 , 0.05098039],\n",
       "        [0.10784314, 0.10392157, 0.07647059],\n",
       "        ...,\n",
       "        [0.28627451, 0.28627451, 0.2745098 ],\n",
       "        [0.20392157, 0.20392157, 0.17254902],\n",
       "        [0.06078431, 0.06078431, 0.04215686]]),\n",
       " 'vector': array([[ 0.00743562,  0.00708866, -0.00726199],\n",
       "        [ 0.01717192,  0.01031709, -0.01296163],\n",
       "        [-0.00970441, -0.00027251, -0.00721502],\n",
       "        ...,\n",
       "        [-0.00351408, -0.0161798 ,  0.00470281],\n",
       "        [ 0.02690023, -0.016608  ,  0.01317024],\n",
       "        [ 0.02380085,  0.01994205, -0.00079837]], dtype=float32),\n",
       " 'class_l': array([0, 0, 0, ..., 0, 0, 0], dtype=int64),\n",
       " 'skeleton_xyz': array([[ 0.00000000e+00,  0.00000000e+00,  0.00000000e+00],\n",
       "        [ 1.75527400e-03,  2.53296100e-02,  1.73640000e-05],\n",
       "        [ 4.35344700e-03,  5.06061900e-02,  3.13307300e-04],\n",
       "        ...,\n",
       "        [-8.33233551e-01,  2.16045122e+00, -3.12571107e+00],\n",
       "        [-8.26094000e-01,  2.12373000e+00, -2.85069000e+00],\n",
       "        [-8.19753834e-01,  2.14904808e+00, -2.86436068e+00]]),\n",
       " 'skeleton_radii': array([[0.073152  ],\n",
       "        [0.07314746],\n",
       "        [0.07314295],\n",
       "        ...,\n",
       "        [0.00075303],\n",
       "        [0.00113316],\n",
       "        [0.00094435]]),\n",
       " 'branch_id': array([    1,     2,     3, ..., 10751, 10752, 10753], dtype=int64),\n",
       " 'branch_parent_id': array([    0,     1,     2, ..., 10746, 10746, 10746], dtype=int64),\n",
       " 'branch_num_elements': array([70, 37, 12, ...,  2,  2,  2], dtype=int64)}"
      ]
     },
     "execution_count": 16,
     "metadata": {},
     "output_type": "execute_result"
    }
   ],
   "source": [
    "res = {}\n",
    "for f in arr.files:\n",
    "    res[f] = arr[f]\n",
    "res"
   ]
  },
  {
   "cell_type": "code",
   "execution_count": 22,
   "metadata": {},
   "outputs": [
    {
     "name": "stdout",
     "output_type": "stream",
     "text": [
      "tree_id: ()\n",
      "xyz: (117996, 3)\n",
      "rgb: (117996, 3)\n",
      "vector: (117996, 3)\n",
      "class_l: (117996,)\n",
      "skeleton_xyz: (41311, 3)\n",
      "skeleton_radii: (41311, 1)\n",
      "branch_id: (10742,)\n",
      "branch_parent_id: (10742,)\n",
      "branch_num_elements: (10742,)\n"
     ]
    }
   ],
   "source": [
    "ptcloud = load_ptcloud(p)\n",
    "for k, v in ptcloud.items():\n",
    "    print(f'{k}: {v.shape}')"
   ]
  },
  {
   "cell_type": "code",
   "execution_count": 26,
   "metadata": {},
   "outputs": [
    {
     "data": {
      "text/plain": [
       "array(1, dtype=int64)"
      ]
     },
     "execution_count": 26,
     "metadata": {},
     "output_type": "execute_result"
    }
   ],
   "source": [
    "ptcloud['tree_id']"
   ]
  },
  {
   "cell_type": "markdown",
   "metadata": {},
   "source": [
    "---"
   ]
  },
  {
   "cell_type": "code",
   "execution_count": 1,
   "metadata": {},
   "outputs": [
    {
     "name": "stdout",
     "output_type": "stream",
     "text": [
      "Jupyter environment detected. Enabling Open3D WebVisualizer.\n",
      "[Open3D INFO] WebRTC GUI backend enabled.\n",
      "[Open3D INFO] WebRTCWindowSystem: HTTP handshake server disabled.\n"
     ]
    }
   ],
   "source": [
    "from plyfile import *\n",
    "from pathlib import Path\n",
    "import numpy as np\n",
    "import open3d as o3d\n",
    "# p = Path('out/run1/saved_lines.ply')\n",
    "p = Path('out/run2/saved_lines.ply')\n",
    "plydata = PlyData.read(p)"
   ]
  },
  {
   "cell_type": "code",
   "execution_count": 2,
   "metadata": {},
   "outputs": [
    {
     "name": "stdout",
     "output_type": "stream",
     "text": [
      "vertex\n",
      "  - count: 17420\n",
      "  - shape: (17420,)\n",
      "  - dtype: [('x', '<f8'), ('y', '<f8'), ('z', '<f8'), ('red', 'u1'), ('green', 'u1'), ('blue', 'u1')]\n",
      "  - props: \n",
      "    - x: f8\n",
      "    - y: f8\n",
      "    - z: f8\n",
      "    - red: u1\n",
      "    - green: u1\n",
      "    - blue: u1\n",
      "face\n",
      "  - count: 33500\n",
      "  - shape: (33500,)\n",
      "  - dtype: [('vertex_indices', 'O')]\n",
      "  - props: \n",
      "    - vertex_indices: u4\n"
     ]
    }
   ],
   "source": [
    "for elem in plydata.elements:\n",
    "    print(elem.name)\n",
    "    print(f'  - count: {elem.count}')\n",
    "    print(f'  - shape: {elem.data.shape}')\n",
    "    print(f'  - dtype: {elem.data.dtype}')\n",
    "    print(f'  - props: ')\n",
    "    for prop in elem.properties:\n",
    "        print(f'    - {prop.name}: {prop.val_dtype}')\n",
    "    \n"
   ]
  },
  {
   "cell_type": "code",
   "execution_count": 3,
   "metadata": {},
   "outputs": [
    {
     "name": "stdout",
     "output_type": "stream",
     "text": [
      "positions: (17420, 3)\n",
      "colors: (17420, 3)\n",
      "faces: (33500, 3)\n"
     ]
    }
   ],
   "source": [
    "vertices = plydata['vertex']\n",
    "x = vertices['x']\n",
    "y = vertices['y']\n",
    "z = vertices['z']\n",
    "r = vertices['red']\n",
    "g = vertices['green']\n",
    "b = vertices['blue']\n",
    "\n",
    "positions = np.stack([x, y, z], axis=1)\n",
    "colors = np.stack([r, g, b], axis=1)\n",
    "\n",
    "print(f'positions: {positions.shape}')\n",
    "print(f'colors: {colors.shape}')\n",
    "\n",
    "faces = np.stack(plydata['face']['vertex_indices'], axis=0)\n",
    "print(f'faces: {faces.shape}')"
   ]
  },
  {
   "cell_type": "code",
   "execution_count": 4,
   "metadata": {},
   "outputs": [],
   "source": [
    "v3v_pos = o3d.utility.Vector3dVector(positions)\n",
    "v3v_tri = o3d.utility.Vector3iVector(faces)\n",
    "\n",
    "mesh = o3d.geometry.TriangleMesh(v3v_pos, v3v_tri)\n",
    "o3d.visualization.draw_geometries([mesh])"
   ]
  }
 ],
 "metadata": {
  "kernelspec": {
   "display_name": "venv",
   "language": "python",
   "name": "python3"
  },
  "language_info": {
   "codemirror_mode": {
    "name": "ipython",
    "version": 3
   },
   "file_extension": ".py",
   "mimetype": "text/x-python",
   "name": "python",
   "nbconvert_exporter": "python",
   "pygments_lexer": "ipython3",
   "version": "3.11.8"
  }
 },
 "nbformat": 4,
 "nbformat_minor": 2
}
